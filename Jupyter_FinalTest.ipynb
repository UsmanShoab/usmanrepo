{
 "cells": [
  {
   "cell_type": "markdown",
   "id": "957fe7e8-c51b-469c-8f68-02f6d5170e31",
   "metadata": {},
   "source": [
    "# My Jupyter Notebook on IBM Watson Studios"
   ]
  },
  {
   "cell_type": "markdown",
   "id": "b3b8c949-087a-440b-86f9-8c2f139edcba",
   "metadata": {},
   "source": [
    "**Usman**\n"
   ]
  },
  {
   "cell_type": "markdown",
   "id": "a553c7e7-c380-4883-bfa8-70bb253e242b",
   "metadata": {
    "tags": []
   },
   "source": [
    "I am currently a student, and i aspire to be a skilled professional in the fields of AI and Machine learning."
   ]
  },
  {
   "cell_type": "markdown",
   "id": "91252f09-d379-4138-9ac5-ecb780aa38d3",
   "metadata": {},
   "source": [
    "*I am interested in data science because it will provide an opportunity for me to use AI to create models and complex systems,I could therefore solve problems for firms through my findings.*"
   ]
  },
  {
   "cell_type": "markdown",
   "id": "b1c7352e-6c28-4ea5-8a4c-4875f9d074ea",
   "metadata": {},
   "source": [
    "### Two variables are created and a command of adding and then printing those variables is applied.\n"
   ]
  },
  {
   "cell_type": "code",
   "execution_count": 2,
   "id": "ae975e97-e979-4375-87c0-f487fb062791",
   "metadata": {},
   "outputs": [
    {
     "name": "stdout",
     "output_type": "stream",
     "text": [
      "69\n"
     ]
    }
   ],
   "source": [
    "A = (56)\n",
    "B = (13)\n",
    "print(A + B)"
   ]
  },
  {
   "cell_type": "code",
   "execution_count": null,
   "id": "fab12feb-2442-42cf-ac9f-a1915b97b099",
   "metadata": {},
   "outputs": [],
   "source": [
    "Tables\n",
    "| Letters       | Numbers       | Symbols|\n",
    "| ------------- |:-------------:| -----: |\n",
    "| A             | 20            | $      |\n",
    "| B             | 50            | @      |\n",
    "| C             | 80            | !      |\n",
    "\n",
    "\n",
    "\n"
   ]
  }
 ],
 "metadata": {
  "kernelspec": {
   "display_name": "Python",
   "language": "python",
   "name": "conda-env-python-py"
  },
  "language_info": {
   "codemirror_mode": {
    "name": "ipython",
    "version": 3
   },
   "file_extension": ".py",
   "mimetype": "text/x-python",
   "name": "python",
   "nbconvert_exporter": "python",
   "pygments_lexer": "ipython3",
   "version": "3.7.12"
  }
 },
 "nbformat": 4,
 "nbformat_minor": 5
}
